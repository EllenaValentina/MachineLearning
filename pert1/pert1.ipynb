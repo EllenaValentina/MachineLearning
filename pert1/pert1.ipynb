{
 "cells": [
  {
   "cell_type": "code",
   "execution_count": null,
   "metadata": {},
   "outputs": [
    {
     "ename": "",
     "evalue": "",
     "output_type": "error",
     "traceback": [
      "\u001b[1;31mRunning cells with '/bin/python3' requires the ipykernel package.\n",
      "\u001b[1;31mRun the following command to install 'ipykernel' into the Python environment. \n",
      "\u001b[1;31mCommand: '/bin/python3 -m pip install ipykernel -U --user --force-reinstall'"
     ]
    }
   ],
   "source": [
    "!pip3 install matplotlib # Untuk install library-nya\n",
    "import matplotlib.pyplot as plt # Untuk memanggil library-nya\n",
    "\n",
    "flavors = ('Chocolate', 'Vanilla', 'Pistachio', 'Mango', 'Strawberry')\n",
    "votes = (12, 11, 4, 8, 7)\n",
    "\n",
    "plt.pie(\n",
    "    votes,\n",
    "    labels = flavors,\n",
    ")\n",
    "plt.show()"
   ]
  },
  {
   "cell_type": "code",
   "execution_count": null,
   "metadata": {},
   "outputs": [],
   "source": [
    "import matplotlib.pyplot as plt\n",
    "\n",
    "mata_kuliah = ('Basis Data', 'Bahasa Pemrograman', 'Pemrograman Web', 'Machine Learning')\n",
    "nilai = (16, 15, 14, 18)\n",
    "explode = (0.1, 0.2, 0.3, 0.4) # Memberikan jarak antar section diagram\n",
    "colors = ('#B62726', '#93C572', '#E67F0D', '#D53032') # Memberikan warna pada masing-masing section diagram\n",
    "\n",
    "plt.pie(\n",
    "    nilai,\n",
    "    labels = mata_kuliah,\n",
    "    autopct ='%1.1f%%', # Untuk menambahkan angka persentase pada diagram\n",
    "    explode = explode,\n",
    "    colors = colors\n",
    ")\n",
    "plt.show()"
   ]
  }
 ],
 "metadata": {
  "kernelspec": {
   "display_name": "Python 3",
   "language": "python",
   "name": "python3"
  },
  "language_info": {
   "name": "python",
   "version": "3.undefined.undefined"
  }
 },
 "nbformat": 4,
 "nbformat_minor": 2
}
